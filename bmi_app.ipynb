{
 "cells": [
  {
   "cell_type": "code",
   "execution_count": 4,
   "id": "29ee0e75",
   "metadata": {},
   "outputs": [],
   "source": [
    "def body_mass_index():\n",
    "    \"\"\"\"Returns BMI of an individual\"\"\"\n",
    "    weight = float(input(\"How much do you weigh in kg? \"))\n",
    "    height = float(input('Please enter your height in meters: '))\n",
    "    \n",
    "    height_squared = height**2\n",
    "    \n",
    "    result = weight/height_squared\n",
    "    bmi = round(result, 1)\n",
    "    if bmi < 18.5:\n",
    "        print('Although to be lean is a recommendation, you can be as lean as possible without been underweight')\n",
    "    elif bmi <= 24.9:\n",
    "        print(f\"Thumbs up for maintaining such a healthy weight. Your BMI is {bmi}kg/m\\u00b2\")\n",
    "    elif bmi <= 29.9:\n",
    "        print('Overweight people can attain healthy weight if they adopt healthy lifestyle')\n",
    "    elif bmi >=30:\n",
    "        print(f'The doctors define an individual with this {bmi}kg/m\\u00b2 as obese')\n",
    "    else:\n",
    "        print(f'If you can still take sme steps please walk t you doctor\\'s doorstep, he describe someone with this\\\n",
    "        {bmi}kg/m\\u00b2 as been morbidly obese')\n",
    "    "
   ]
  },
  {
   "cell_type": "code",
   "execution_count": 5,
   "id": "ed2dfd22",
   "metadata": {},
   "outputs": [
    {
     "name": "stdout",
     "output_type": "stream",
     "text": [
      "How much do you weigh in kg? 70\n",
      "Please enter your height in meters: 1.7\n",
      "Thumbs up for maitaining such a healthy weight. Your BMI is 24.2kg/m²\n"
     ]
    }
   ],
   "source": [
    "body_mass_index()"
   ]
  },
  {
   "cell_type": "code",
   "execution_count": null,
   "id": "6cc5dfe6",
   "metadata": {},
   "outputs": [],
   "source": []
  }
 ],
 "metadata": {
  "kernelspec": {
   "display_name": "Python 3 (ipykernel)",
   "language": "python",
   "name": "python3"
  },
  "language_info": {
   "codemirror_mode": {
    "name": "ipython",
    "version": 3
   },
   "file_extension": ".py",
   "mimetype": "text/x-python",
   "name": "python",
   "nbconvert_exporter": "python",
   "pygments_lexer": "ipython3",
   "version": "3.9.7"
  }
 },
 "nbformat": 4,
 "nbformat_minor": 5
}
